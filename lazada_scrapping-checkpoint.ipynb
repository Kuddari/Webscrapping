{
 "cells": [
  {
   "cell_type": "code",
   "execution_count": 2,
   "id": "d0d2e0fb",
   "metadata": {},
   "outputs": [
    {
     "name": "stdout",
     "output_type": "stream",
     "text": [
      "Requirement already satisfied: selenium in d:\\anaconda\\lib\\site-packages (4.1.2)\n",
      "Requirement already satisfied: trio-websocket~=0.9 in d:\\anaconda\\lib\\site-packages (from selenium) (0.9.2)\n",
      "Requirement already satisfied: urllib3[secure,socks]~=1.26 in d:\\anaconda\\lib\\site-packages (from selenium) (1.26.7)\n",
      "Requirement already satisfied: trio~=0.17 in d:\\anaconda\\lib\\site-packages (from selenium) (0.20.0)\n",
      "Requirement already satisfied: outcome in d:\\anaconda\\lib\\site-packages (from trio~=0.17->selenium) (1.1.0)\n",
      "Requirement already satisfied: sniffio in d:\\anaconda\\lib\\site-packages (from trio~=0.17->selenium) (1.2.0)\n",
      "Requirement already satisfied: idna in d:\\anaconda\\lib\\site-packages (from trio~=0.17->selenium) (3.2)\n",
      "Requirement already satisfied: async-generator>=1.9 in d:\\anaconda\\lib\\site-packages (from trio~=0.17->selenium) (1.10)\n",
      "Requirement already satisfied: attrs>=19.2.0 in d:\\anaconda\\lib\\site-packages (from trio~=0.17->selenium) (21.2.0)\n",
      "Requirement already satisfied: cffi>=1.14 in d:\\anaconda\\lib\\site-packages (from trio~=0.17->selenium) (1.14.6)\n",
      "Requirement already satisfied: sortedcontainers in d:\\anaconda\\lib\\site-packages (from trio~=0.17->selenium) (2.4.0)\n",
      "Requirement already satisfied: pycparser in d:\\anaconda\\lib\\site-packages (from cffi>=1.14->trio~=0.17->selenium) (2.20)\n",
      "Requirement already satisfied: wsproto>=0.14 in d:\\anaconda\\lib\\site-packages (from trio-websocket~=0.9->selenium) (1.1.0)\n",
      "Requirement already satisfied: PySocks!=1.5.7,<2.0,>=1.5.6 in d:\\anaconda\\lib\\site-packages (from urllib3[secure,socks]~=1.26->selenium) (1.7.1)\n",
      "Requirement already satisfied: pyOpenSSL>=0.14 in d:\\anaconda\\lib\\site-packages (from urllib3[secure,socks]~=1.26->selenium) (21.0.0)\n",
      "Requirement already satisfied: cryptography>=1.3.4 in d:\\anaconda\\lib\\site-packages (from urllib3[secure,socks]~=1.26->selenium) (3.4.8)\n",
      "Requirement already satisfied: certifi in d:\\anaconda\\lib\\site-packages (from urllib3[secure,socks]~=1.26->selenium) (2021.10.8)\n",
      "Requirement already satisfied: six>=1.5.2 in d:\\anaconda\\lib\\site-packages (from pyOpenSSL>=0.14->urllib3[secure,socks]~=1.26->selenium) (1.16.0)\n",
      "Requirement already satisfied: h11<1,>=0.9.0 in d:\\anaconda\\lib\\site-packages (from wsproto>=0.14->trio-websocket~=0.9->selenium) (0.13.0)\n"
     ]
    }
   ],
   "source": [
    "!pip install selenium"
   ]
  },
  {
   "cell_type": "code",
   "execution_count": 3,
   "id": "32c38b6c",
   "metadata": {
    "scrolled": true
   },
   "outputs": [
    {
     "name": "stderr",
     "output_type": "stream",
     "text": [
      "C:\\Users\\Kudari\\AppData\\Local\\Temp/ipykernel_21036/227100714.py:2: DeprecationWarning: executable_path has been deprecated, please pass in a Service object\n",
      "  driver = webdriver.Chrome(executable_path=r'C:\\Users\\Kudari\\OneDrive\\Desktop\\Testdata\\Soupdata\\chromedriver')\n"
     ]
    }
   ],
   "source": [
    "from selenium import webdriver\n",
    "driver = webdriver.Chrome(executable_path=r'C:\\Users\\Kudari\\OneDrive\\Desktop\\Testdata\\Soupdata\\chromedriver')"
   ]
  },
  {
   "cell_type": "markdown",
   "id": "d56ef23e",
   "metadata": {},
   "source": [
    "search = driver.find_element_by_xpath('/html/body/div[2]/div/div[1]/div/div/div[2]/div/div[2]/form/div/div[1]/input[1]')"
   ]
  },
  {
   "cell_type": "code",
   "execution_count": 4,
   "id": "262a1f9f",
   "metadata": {},
   "outputs": [
    {
     "name": "stdout",
     "output_type": "stream",
     "text": [
      "Requirement already satisfied: bs4 in d:\\anaconda\\lib\\site-packages (0.0.1)\n",
      "Requirement already satisfied: beautifulsoup4 in d:\\anaconda\\lib\\site-packages (from bs4) (4.10.0)\n",
      "Requirement already satisfied: soupsieve>1.2 in d:\\anaconda\\lib\\site-packages (from beautifulsoup4->bs4) (2.2.1)\n"
     ]
    }
   ],
   "source": [
    "!pip install bs4"
   ]
  },
  {
   "cell_type": "code",
   "execution_count": 5,
   "id": "bcba295b",
   "metadata": {},
   "outputs": [],
   "source": [
    "import bs4\n",
    "import pandas as pd\n",
    "import time\n",
    "from time import sleep"
   ]
  },
  {
   "cell_type": "code",
   "execution_count": 13,
   "id": "8cc9a0d7",
   "metadata": {},
   "outputs": [],
   "source": [
    "all_link_list = []\n",
    "all_product_list = []\n",
    "all_price_list = []\n",
    "all_sale_list = []\n",
    "all_img_list = []\n",
    "page = 0"
   ]
  },
  {
   "cell_type": "code",
   "execution_count": 14,
   "id": "ac097366",
   "metadata": {
    "scrolled": true
   },
   "outputs": [
    {
     "name": "stdout",
     "output_type": "stream",
     "text": [
      "Complete page number:  0\n"
     ]
    }
   ],
   "source": [
    "while page <= 0:\n",
    "    driver.get(\"https://shopee.co.th/search?keyword=%E0%B8%A3%E0%B8%AD%E0%B8%87%E0%B9%80%E0%B8%97%E0%B9%89%E0%B8%B2%E0%B8%9C%E0%B9%89%E0%B8%B2%E0%B9%83%E0%B8%9A&page={}\".format(page))\n",
    "    driver.execute_script(\"document.body.style.zoom='10%'\")\n",
    "    time.sleep(10)\n",
    "    data = driver.page_source\n",
    "    soup = bs4.BeautifulSoup(data)\n",
    "    all_product = soup.find_all('div',{'class':'tWpFe2'})\n",
    "    all_price = soup.find_all('span',{'class':'ZEgDH9'})\n",
    "    all_sale = soup.find_all('div',{'class':'r6HknA uEPGHT'})\n",
    "    img_url = soup.find_all('img',{'class':'_7DTxhh vc8g9F'})\n",
    "    links = soup.find_all('a',{'data-sqe':'link'})\n",
    "    for link in links:         \n",
    "        all_link_list.append(link.get('href').replace(\"/\",\"https://shopee.co.th/\"))\n",
    "    for img in img_url:         \n",
    "        all_img_list.append(img.get('src'))\n",
    "    for product in all_product:\n",
    "        all_product_list.append(product.text)\n",
    "    for price in all_price:\n",
    "        all_price_list.append(price.text)    \n",
    "    for sale in all_sale:\n",
    "        all_sale_list.append(sale.text)\n",
    "    print('Complete page number: ',page)\n",
    "    page += 1"
   ]
  },
  {
   "cell_type": "code",
   "execution_count": 15,
   "id": "1d0f316f",
   "metadata": {},
   "outputs": [
    {
     "data": {
      "text/html": [
       "<div><div id=76188bd1-7710-4837-a682-3c74c57a07fc style=\"display:none; background-color:#9D6CFF; color:white; width:200px; height:30px; padding-left:5px; border-radius:4px; flex-direction:row; justify-content:space-around; align-items:center;\" onmouseover=\"this.style.backgroundColor='#BA9BF8'\" onmouseout=\"this.style.backgroundColor='#9D6CFF'\" onclick=\"window.commands?.execute('create-mitosheet-from-dataframe-output');\">See Full Dataframe in Mito</div> <script> if (window.commands.hasCommand('create-mitosheet-from-dataframe-output')) document.getElementById('76188bd1-7710-4837-a682-3c74c57a07fc').style.display = 'flex' </script> <table border=\"1\" class=\"dataframe\">\n",
       "  <thead>\n",
       "    <tr style=\"text-align: right;\">\n",
       "      <th></th>\n",
       "      <th>product_link</th>\n",
       "      <th>title</th>\n",
       "      <th>price</th>\n",
       "      <th>amount</th>\n",
       "      <th>img_url</th>\n",
       "    </tr>\n",
       "  </thead>\n",
       "  <tbody>\n",
       "    <tr>\n",
       "      <th>0</th>\n",
       "      <td>https://shopee.co.th/Kito-รองเท้าผ้าใบ-รุ่น-BE7-Size-36-44-i.34539611.2879020863?sp_atk=380125be-ce2d-4600-9130-4b07734dde41&amp;xptdk=380125be-ce2d-4600-9130-4b07734dde41</td>\n",
       "      <td>32%ลดโฆษณาKito รองเท้าผ้าใบ รุ่น BE7 Size 36-44฿428฿289ขายแล้ว 32.9พัน ชิ้นจังหวัดกรุงเทพมหานครค้นหาสินค้าที่คล้ายกัน</td>\n",
       "      <td>289</td>\n",
       "      <td>ขายแล้ว 32.9พัน ชิ้น</td>\n",
       "      <td>https://cf.shopee.co.th/file/6eefe4cc10075101255f9347cc6e413c_tn</td>\n",
       "    </tr>\n",
       "    <tr>\n",
       "      <th>1</th>\n",
       "      <td>https://shopee.co.th/Mc-Jeans-รองเท้าผ้าใบ-กันน้ำ-สีครีมอ๊อฟไวท์-พร้อมเชือกรองเท้า-2-สี-ทรงสวย-สามารถใส่ได้ทั้งชายและหญิง-M09Z015-i.33941930.5146430161?sp_atk=89ab02cc-eef9-4a9f-ac20-2d7262f70e7a&amp;xptdk=89ab02cc-eef9-4a9f-ac20-2d7262f70e7a</td>\n",
       "      <td>35%ลดโฆษณาMc Jeans รองเท้าผ้าใบ กันน้ำ สีครีมอ๊อฟไวท์ พร้อมเชือกรองเท้า 2 สี ทรงสวย สามารถใส่ได้ทั้งชายและหญิง M09Z015โค้ดลด ฿100รับสินค้าฟรี฿1,495฿979ขายแล้ว 6.8พัน ชิ้นจังหวัดกรุงเทพมหานครค้นหาสินค้าที่คล้ายกัน</td>\n",
       "      <td>979</td>\n",
       "      <td>ขายแล้ว 6.8พัน ชิ้น</td>\n",
       "      <td>https://cf.shopee.co.th/file/f1484ae27851de0ab7058e0903033f4a_tn</td>\n",
       "    </tr>\n",
       "    <tr>\n",
       "      <th>2</th>\n",
       "      <td>https://shopee.co.th/Nike-SB-Dunk-Low-North-Carolina-Blue-Low-รองเท้าผ้าใบ-รองเท้าผ้าใบผู้ชาย-รองเท้าผ้าใบสตรี-i.283755566.18750933673?sp_atk=05e0e515-c207-4cea-ab2a-0b06fa352cf3&amp;xptdk=05e0e515-c207-4cea-ab2a-0b06fa352cf3</td>\n",
       "      <td>โฆษณาNike SB Dunk Low North Carolina Blue Low รองเท้าผ้าใบ รองเท้าผ้าใบผู้ชาย รองเท้าผ้าใบสตรีขายส่ง฿1,569ขายแล้ว 11 ชิ้นจังหวัดกรุงเทพมหานครค้นหาสินค้าที่คล้ายกัน</td>\n",
       "      <td>1,569</td>\n",
       "      <td>ขายแล้ว 11 ชิ้น</td>\n",
       "      <td>https://cf.shopee.co.th/file/f2363595f43fe91170606768552166b8_tn</td>\n",
       "    </tr>\n",
       "    <tr>\n",
       "      <th>3</th>\n",
       "      <td>https://shopee.co.th/Mc-Jeans-รองเท้า-Slip-on-สีขาว-ทรงสวย-ใส่สบาย-สามารถใส่ได้ทั้งชายและหญิง-รุ่น-M09Z00410-i.33941930.10732798200?sp_atk=d16cccb1-d4a7-4ea0-a751-40d04d258463&amp;xptdk=d16cccb1-d4a7-4ea0-a751-40d04d258463</td>\n",
       "      <td>34%ลดโฆษณาMc Jeans รองเท้า Slip on สีขาว ทรงสวย ใส่สบาย สามารถใส่ได้ทั้งชายและหญิง รุ่น M09Z00410โค้ดลด ฿80รับสินค้าฟรี฿1,295฿849ขายแล้ว 3.6พัน ชิ้นจังหวัดกรุงเทพมหานครค้นหาสินค้าที่คล้ายกัน</td>\n",
       "      <td>849</td>\n",
       "      <td>ขายแล้ว 3.6พัน ชิ้น</td>\n",
       "      <td>https://cf.shopee.co.th/file/d0f9ccbf20b23c5ded27b6dab2f78ffb_tn</td>\n",
       "    </tr>\n",
       "    <tr>\n",
       "      <th>4</th>\n",
       "      <td>https://shopee.co.th/Kito-รองเท้าผ้าใบ-รุ่น-BE16-Size-40-44-i.34539611.21539148318?sp_atk=815876ec-d68e-44ba-afb0-1fb0a58d80d3&amp;xptdk=815876ec-d68e-44ba-afb0-1fb0a58d80d3</td>\n",
       "      <td>15%ลดโฆษณาKito รองเท้าผ้าใบ รุ่น BE16 Size 40-44฿588฿499ขายแล้ว 152 ชิ้นจังหวัดกรุงเทพมหานครค้นหาสินค้าที่คล้ายกัน</td>\n",
       "      <td>499</td>\n",
       "      <td>ขายแล้ว 152 ชิ้น</td>\n",
       "      <td>https://cf.shopee.co.th/file/7fa4e904bd67b3ede5a07ad01fadce4b_tn</td>\n",
       "    </tr>\n",
       "    <tr>\n",
       "      <th>...</th>\n",
       "      <td>...</td>\n",
       "      <td>...</td>\n",
       "      <td>...</td>\n",
       "      <td>...</td>\n",
       "      <td>...</td>\n",
       "    </tr>\n",
       "    <tr>\n",
       "      <th>62</th>\n",
       "      <td>None</td>\n",
       "      <td>None</td>\n",
       "      <td>643</td>\n",
       "      <td>None</td>\n",
       "      <td>None</td>\n",
       "    </tr>\n",
       "    <tr>\n",
       "      <th>63</th>\n",
       "      <td>None</td>\n",
       "      <td>None</td>\n",
       "      <td>979</td>\n",
       "      <td>None</td>\n",
       "      <td>None</td>\n",
       "    </tr>\n",
       "    <tr>\n",
       "      <th>64</th>\n",
       "      <td>None</td>\n",
       "      <td>None</td>\n",
       "      <td>1,890</td>\n",
       "      <td>None</td>\n",
       "      <td>None</td>\n",
       "    </tr>\n",
       "    <tr>\n",
       "      <th>65</th>\n",
       "      <td>None</td>\n",
       "      <td>None</td>\n",
       "      <td>2,378</td>\n",
       "      <td>None</td>\n",
       "      <td>None</td>\n",
       "    </tr>\n",
       "    <tr>\n",
       "      <th>66</th>\n",
       "      <td>None</td>\n",
       "      <td>None</td>\n",
       "      <td>1,088</td>\n",
       "      <td>None</td>\n",
       "      <td>None</td>\n",
       "    </tr>\n",
       "  </tbody>\n",
       "</table></div>"
      ],
      "text/plain": [
       "                                         product_link  \\\n",
       "0   https://shopee.co.th/Kito-รองเท้าผ้าใบ-รุ่น-BE...   \n",
       "1   https://shopee.co.th/Mc-Jeans-รองเท้าผ้าใบ-กัน...   \n",
       "2   https://shopee.co.th/Nike-SB-Dunk-Low-North-Ca...   \n",
       "3   https://shopee.co.th/Mc-Jeans-รองเท้า-Slip-on-...   \n",
       "4   https://shopee.co.th/Kito-รองเท้าผ้าใบ-รุ่น-BE...   \n",
       "..                                                ...   \n",
       "62                                               None   \n",
       "63                                               None   \n",
       "64                                               None   \n",
       "65                                               None   \n",
       "66                                               None   \n",
       "\n",
       "                                                title  price  \\\n",
       "0   32%ลดโฆษณาKito รองเท้าผ้าใบ รุ่น BE7 Size 36-4...    289   \n",
       "1   35%ลดโฆษณาMc Jeans รองเท้าผ้าใบ กันน้ำ สีครีมอ...    979   \n",
       "2   โฆษณาNike SB Dunk Low North Carolina Blue Low ...  1,569   \n",
       "3   34%ลดโฆษณาMc Jeans รองเท้า Slip on สีขาว ทรงสว...    849   \n",
       "4   15%ลดโฆษณาKito รองเท้าผ้าใบ รุ่น BE16 Size 40-...    499   \n",
       "..                                                ...    ...   \n",
       "62                                               None    643   \n",
       "63                                               None    979   \n",
       "64                                               None  1,890   \n",
       "65                                               None  2,378   \n",
       "66                                               None  1,088   \n",
       "\n",
       "                  amount                                            img_url  \n",
       "0   ขายแล้ว 32.9พัน ชิ้น  https://cf.shopee.co.th/file/6eefe4cc100751012...  \n",
       "1    ขายแล้ว 6.8พัน ชิ้น  https://cf.shopee.co.th/file/f1484ae27851de0ab...  \n",
       "2        ขายแล้ว 11 ชิ้น  https://cf.shopee.co.th/file/f2363595f43fe9117...  \n",
       "3    ขายแล้ว 3.6พัน ชิ้น  https://cf.shopee.co.th/file/d0f9ccbf20b23c5de...  \n",
       "4       ขายแล้ว 152 ชิ้น  https://cf.shopee.co.th/file/7fa4e904bd67b3ede...  \n",
       "..                   ...                                                ...  \n",
       "62                  None                                               None  \n",
       "63                  None                                               None  \n",
       "64                  None                                               None  \n",
       "65                  None                                               None  \n",
       "66                  None                                               None  \n",
       "\n",
       "[67 rows x 5 columns]"
      ]
     },
     "execution_count": 15,
     "metadata": {},
     "output_type": "execute_result"
    }
   ],
   "source": [
    "shopee_data = pd.DataFrame([all_link_list,all_product_list,all_price_list,all_sale_list,all_img_list])\n",
    "shopee_data = shopee_data.transpose()\n",
    "shopee_data.columns = ['product_link', 'title', 'price', 'amount','img_url']\n",
    "shopee_data"
   ]
  },
  {
   "cell_type": "code",
   "execution_count": 146,
   "id": "455fbe95",
   "metadata": {},
   "outputs": [
    {
     "name": "stdout",
     "output_type": "stream",
     "text": [
      "Requirement already satisfied: openpyxl in d:\\anaconda\\lib\\site-packages (3.0.9)\n",
      "Requirement already satisfied: et-xmlfile in d:\\anaconda\\lib\\site-packages (from openpyxl) (1.1.0)\n",
      "Note: you may need to restart the kernel to use updated packages.\n"
     ]
    }
   ],
   "source": [
    "pip install openpyxl"
   ]
  },
  {
   "cell_type": "code",
   "execution_count": 147,
   "id": "d0805681",
   "metadata": {},
   "outputs": [],
   "source": [
    "import openpyxl as xl\n",
    "file = xl.Workbook('shopee_data')\n",
    "file.save('shopee.xlsx')"
   ]
  },
  {
   "cell_type": "code",
   "execution_count": null,
   "id": "2ad3fe54",
   "metadata": {},
   "outputs": [],
   "source": []
  }
 ],
 "metadata": {
  "kernelspec": {
   "display_name": "Python 3 (ipykernel)",
   "language": "python",
   "name": "python3"
  },
  "language_info": {
   "codemirror_mode": {
    "name": "ipython",
    "version": 3
   },
   "file_extension": ".py",
   "mimetype": "text/x-python",
   "name": "python",
   "nbconvert_exporter": "python",
   "pygments_lexer": "ipython3",
   "version": "3.9.7"
  }
 },
 "nbformat": 4,
 "nbformat_minor": 5
}
